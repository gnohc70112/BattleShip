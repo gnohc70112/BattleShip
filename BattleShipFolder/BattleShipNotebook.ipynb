{
 "cells": [
  {
   "cell_type": "markdown",
   "metadata": {},
   "source": [
    "# James Chong's Final Project\n",
    "\n",
    "In my COGS 18 Final Project, I decided to use code I had previously written in CSE 30 and completely refactor it and translate it from C++ and Assembly to Python. This class being my first time being introduced to the language of Python, I thought it would be a good idea to take code I had previously written and rewrite it in a new language I had learned over the course of this quarter. Because of the amount of modifying I had done to the code, this entire project will be my graded project code. The programming assignment I had worked on implemented a user interactive BattleShip game that allowed two users to either automatically generate a board with their ships, or it could allow them to manually place their ships. They would then take turns guessing spaces in the format of 1,2 where 1 is the X position on the board and 2 is the Y position on the board. The players can guess on the board where they think their opponent's ships are, and are able to see if they hit or miss. Once a player sinks all of the opponent's ships they win the game. At any time, the user can enter Ctrl+Z to exit the game. Also, any errors that may occur while user is inputting to the program are handled, will print appropriate error messages, and allow the user to try again.\n",
    "\n",
    "To run the program, open the terminal and type \"python BattleShip.py\""
   ]
  },
  {
   "cell_type": "markdown",
   "metadata": {},
   "source": [
    "Extra Credit:\n",
    "\n",
    "For this project, I feel that I challenged myself to look back at well documented code and rewrite it so that it fits the language of python using classes, different data structures, and better algorithms. This required my prior expertise previously learned in other classes to understand C++ and Assembly, while understanding the Python runtime environment I learned about this quarter, which allowed me to create a program that works well in different languages."
   ]
  }
 ],
 "metadata": {
  "kernelspec": {
   "display_name": "Python 3",
   "language": "python",
   "name": "python3"
  },
  "language_info": {
   "codemirror_mode": {
    "name": "ipython",
    "version": 3
   },
   "file_extension": ".py",
   "mimetype": "text/x-python",
   "name": "python",
   "nbconvert_exporter": "python",
   "pygments_lexer": "ipython3",
   "version": "3.6.7"
  }
 },
 "nbformat": 4,
 "nbformat_minor": 2
}
